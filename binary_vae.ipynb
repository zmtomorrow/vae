{
 "cells": [
  {
   "cell_type": "code",
   "execution_count": 1,
   "metadata": {},
   "outputs": [],
   "source": [
    "import torch\n",
    "import torchvision\n",
    "import torch.nn as nn\n",
    "import torch.nn.functional as F\n",
    "import torch.optim as optim\n",
    "from torch.distributions import Bernoulli\n",
    "\n",
    "import numpy as np\n",
    "from tools import *\n",
    "from utils import *\n",
    "import operator\n",
    "import itertools\n",
    "import os\n",
    "\n",
    "os.environ[\"CUDA_DEVICE_ORDER\"] = \"PCI_BUS_ID\"\n",
    "os.environ[\"CUDA_VISIBLE_DEVICES\"] = \"0\"\n",
    "np.random.seed(0)\n",
    "torch.manual_seed(0)\n",
    "opt= {}\n",
    "if torch.cuda.is_available():\n",
    "    torch.backends.cudnn.deterministic = True\n",
    "    torch.backends.cudnn.benchmark = False\n",
    "    opt['device']= torch.device('cuda:0')\n",
    "    opt['if_cuda']=True\n",
    "else:\n",
    "    opt['device']= torch.device('cpu')\n",
    "    opt['if_cuda']=False"
   ]
  },
  {
   "cell_type": "code",
   "execution_count": 2,
   "metadata": {},
   "outputs": [],
   "source": [
    "class vae(nn.Module):\n",
    "    def __init__(self,opt):\n",
    "        super(vae, self).__init__()\n",
    "        self.z_dim=10\n",
    "        self.x_std=0.5\n",
    "        self.en_fc1 = nn.Linear(784, 600)\n",
    "        self.en_fc2 = nn.Linear(600, 400)\n",
    "        self.en_fc3 = nn.Linear(400, 200)\n",
    "        self.en_fc4_1 = nn.Linear(200, self.z_dim)\n",
    "        self.en_fc4_2 = nn.Linear(200, self.z_dim)\n",
    "        self.de_fc1 = nn.Linear(self.z_dim, 200)\n",
    "        self.de_fc2 = nn.Linear(200, 400)\n",
    "        self.de_fc3 = nn.Linear(400, 600)\n",
    "        self.de_fc4 = nn.Linear(600, 784)\n",
    "        \n",
    "        self.device=opt['device']\n",
    "        self.if_cuda=opt['if_cuda']\n",
    "        self.prior_mu=torch.zeros(self.z_dim, requires_grad=False)\n",
    "        self.prior_std=torch.ones(self.z_dim, requires_grad=False)\n",
    "        self.params = list(self.parameters())\n",
    "        self.optimizer = optim.Adam(self.params, lr=0.0001)\n",
    "\n",
    "\n",
    "    def posterior(self, x):\n",
    "        h = F.leaky_relu(self.en_fc1(x))\n",
    "        h = F.leaky_relu(self.en_fc2(h))\n",
    "        h = F.leaky_relu(self.en_fc3(h))\n",
    "        mu = self.en_fc4_1(h)\n",
    "        log_std = self.en_fc4_2(h)\n",
    "        return mu, torch.exp(log_std)\n",
    "\n",
    "\n",
    "    def model(self, z):\n",
    "        h = F.leaky_relu(self.de_fc1(z))\n",
    "        h = F.leaky_relu(self.de_fc2(h))\n",
    "        h = F.leaky_relu(self.de_fc3(h))\n",
    "        logit = self.de_fc4(h)\n",
    "#         logit =F.linear(h, self.en_fc1.weight.t())\n",
    "        return logit\n",
    "    \n",
    "    def evaluate(self,x):\n",
    "        z_mu, z_std=self.posterior(x)\n",
    "        eps = torch.randn_like(z_mu).to(self.device)\n",
    "        z=eps.mul(z_std).add_(z_mu)\n",
    "        logit=self.model(z)\n",
    "        l = torch.sum(Bernoulli(logits=logit).log_prob(x.view(-1, 784)), dim=1)\n",
    "#         print(l)\n",
    "        kl=batch_KL_diag_gaussian_std(z_mu,z_std,self.prior_mu.to(self.device),self.prior_std.to(self.device))\n",
    "        print(kl)\n",
    "        loss= torch.mean(-l+kl,dim=0)\n",
    "        return loss,l,kl,torch.sigmoid(logit)\n",
    "    \n",
    "    def loss(self,x):\n",
    "        z_mu, z_std=self.posterior(x)\n",
    "        eps = torch.randn_like(z_mu).to(self.device)\n",
    "        z=eps.mul(z_std).add_(z_mu)\n",
    "        logit=self.model(z)\n",
    "        l = torch.sum(Bernoulli(logits=logit).log_prob(x.view(-1, 784)), dim=1)\n",
    "        kl=batch_KL_diag_gaussian_std(z_mu,z_std,self.prior_mu.to(self.device),self.prior_std.to(self.device))\n",
    "        loss= torch.mean(-l+kl,dim=0)/np.log(2.)\n",
    "        return loss\n",
    "    \n",
    "    def sample(self):\n",
    "        z = torch.randn(100, self.z_dim).to(self.device)\n",
    "        x_sample=Bernoulli(logits=self.model(z)).sample()\n",
    "        return x_sample.cpu().detach().numpy()"
   ]
  },
  {
   "cell_type": "code",
   "execution_count": 3,
   "metadata": {},
   "outputs": [
    {
     "data": {
      "text/plain": [
       "<All keys matched successfully>"
      ]
     },
     "execution_count": 3,
     "metadata": {},
     "output_type": "execute_result"
    }
   ],
   "source": [
    "test_data=torchvision.datasets.MNIST('./', train=False, download=False,transform=torchvision.transforms.ToTensor())\n",
    "test_data_list=[]\n",
    "for x,y in test_data:\n",
    "    test_data_list.append(np.rint(x))\n",
    "    \n",
    "vae_model = vae(opt).to(opt['device'])\n",
    "# vae_model.load_state_dict(torch.load(\"./model_save/binary_vae.pth\"))"
   ]
  },
  {
   "cell_type": "code",
   "execution_count": 4,
   "metadata": {},
   "outputs": [],
   "source": [
    "train_data=torchvision.datasets.MNIST('./', train=True, download=False,transform=torchvision.transforms.ToTensor())\n",
    "train_data_list=[]\n",
    "for x,y in train_data:\n",
    "    train_data_list.append(np.rint(x))\n",
    "vae_model = vae(opt).to(opt['device'])\n",
    "loss_list=[]\n",
    "for epoch in range(0,1000):\n",
    "    if epoch>500:\n",
    "        if epoch%50==0:\n",
    "            lr=0.0001/(epoch/100)\n",
    "            vae_model.optimizer = optim.Adam(vae_model.params, lr)\n",
    "    for i in range(0,600):\n",
    "        index=np.random.choice(60000,100)\n",
    "        batch_data_list=[train_data_list[i] for i in index]\n",
    "        batch_data=torch.stack(batch_data_list).view(-1,784).to(opt['device'])\n",
    "        vae_model.optimizer.zero_grad()\n",
    "        loss = vae_model.loss(batch_data)\n",
    "        loss.backward()\n",
    "        loss_list.append(loss.item())\n",
    "        vae_model.optimizer.step()\n",
    "    if epoch%50==0 and epoch!=0:\n",
    "        print('epoch',epoch)\n",
    "        print('loss',loss.item())\n",
    "        plt.plot(loss_list)\n",
    "        plt.show()\n",
    "        \n",
    "        x_sample=vae_model.sample()\n",
    "        show_many(x_sample,10)\n",
    "        torch.save(vae_model.state_dict(), './model_save/binary_vae.pth')"
   ]
  },
  {
   "cell_type": "code",
   "execution_count": 108,
   "metadata": {},
   "outputs": [
    {
     "name": "stdout",
     "output_type": "stream",
     "text": [
      "tensor(83.7531, grad_fn=<MeanBackward1>)\n"
     ]
    }
   ],
   "source": [
    "test_data_t=torch.stack(test_data_list[0:1]).reshape(-1,784)\n",
    "print(vae_model.loss(test_data_t.to(opt['device'])))"
   ]
  }
 ],
 "metadata": {
  "kernelspec": {
   "display_name": "Python 3",
   "language": "python",
   "name": "python3"
  },
  "language_info": {
   "codemirror_mode": {
    "name": "ipython",
    "version": 3
   },
   "file_extension": ".py",
   "mimetype": "text/x-python",
   "name": "python",
   "nbconvert_exporter": "python",
   "pygments_lexer": "ipython3",
   "version": "3.7.6"
  }
 },
 "nbformat": 4,
 "nbformat_minor": 4
}
